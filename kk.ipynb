{
 "metadata": {
  "language_info": {
   "codemirror_mode": {
    "name": "ipython",
    "version": 3
   },
   "file_extension": ".py",
   "mimetype": "text/x-python",
   "name": "python",
   "nbconvert_exporter": "python",
   "pygments_lexer": "ipython3",
   "version": "3.7.0"
  },
  "orig_nbformat": 2,
  "kernelspec": {
   "name": "python3",
   "display_name": "Python 3.7.0 64-bit ('pytorch': conda)",
   "metadata": {
    "interpreter": {
     "hash": "4624cbf82c88f2458d4fe804079e250cb59b1e02d1ab4ba3931bc4ab13ffe406"
    }
   }
  }
 },
 "nbformat": 4,
 "nbformat_minor": 2,
 "cells": [
  {
   "cell_type": "code",
   "execution_count": 1,
   "metadata": {},
   "outputs": [],
   "source": [
    "from Crypto.Hash import SHA256"
   ]
  },
  {
   "cell_type": "code",
   "execution_count": 2,
   "metadata": {},
   "outputs": [],
   "source": [
    "with open(\"/home/daominhkhanh/Documents/ATTT/Authentication/Video/birthday.mp4\",'rb') as file:\n",
    "    data=file.read()"
   ]
  },
  {
   "cell_type": "code",
   "execution_count": 3,
   "metadata": {},
   "outputs": [],
   "source": [
    "n_block=len(data)//1024+1"
   ]
  },
  {
   "cell_type": "code",
   "execution_count": 4,
   "metadata": {},
   "outputs": [
    {
     "output_type": "stream",
     "name": "stdout",
     "text": [
      "16531\n"
     ]
    }
   ],
   "source": [
    "print(n_block)"
   ]
  },
  {
   "cell_type": "code",
   "execution_count": 5,
   "metadata": {},
   "outputs": [],
   "source": [
    "hash_function=SHA256.new()"
   ]
  },
  {
   "cell_type": "code",
   "execution_count": 36,
   "metadata": {},
   "outputs": [],
   "source": [
    "def hash_code(message,hash_function):\n",
    "    hash_function.update(message)\n",
    "    return hash_function.digest()"
   ]
  },
  {
   "cell_type": "code",
   "execution_count": 7,
   "metadata": {},
   "outputs": [],
   "source": [
    "size_block=1024"
   ]
  },
  {
   "cell_type": "code",
   "execution_count": null,
   "metadata": {},
   "outputs": [],
   "source": []
  },
  {
   "cell_type": "code",
   "execution_count": 8,
   "metadata": {},
   "outputs": [],
   "source": [
    "video_data=None\n",
    "hash_code_block=None\n",
    "for i in range(n_block,0,-1):\n",
    "    temp=data[size_block*(i-1):min(len(data),size_block*i)]\n",
    "    if hash_code_block is None:\n",
    "        hash_code_block=hash_code(temp)\n",
    "    else:\n",
    "        hash_code_block_new=hash_code(temp+hash_code_block)\n",
    "        \n",
    "    if video_data is None:\n",
    "        video_data=temp\n",
    "    else:\n",
    "        video_data=temp+hash_code_block+video_data\n",
    "        hash_code_block=hash_code_block_new"
   ]
  },
  {
   "cell_type": "code",
   "execution_count": null,
   "metadata": {},
   "outputs": [],
   "source": [
    "t=data[:1024]\n",
    "print(hash_code(t+hash_co))"
   ]
  },
  {
   "cell_type": "code",
   "execution_count": 9,
   "metadata": {},
   "outputs": [
    {
     "output_type": "execute_result",
     "data": {
      "text/plain": [
       "b'\\x1f\\xf4\\xdb\\x06\\xccf\\x1c\\x9c\\x8b\\xd9\\x12H\"\\xf8\\xf7\\xe5t\\x17\\xca3\\xba\\x9d\\x85v\\xfe\\xdc\\xb4s\\xe8\\x9a\\xdb&'"
      ]
     },
     "metadata": {},
     "execution_count": 9
    }
   ],
   "source": [
    "hash_code_block"
   ]
  },
  {
   "cell_type": "code",
   "execution_count": 51,
   "metadata": {},
   "outputs": [],
   "source": [
    "with open(\"/home/daominhkhanh/Documents/ATTT/Authentication/VideoConcat/birthday_concat.mp4\",'rb') as file:\n",
    "    data_concat=file.read()"
   ]
  },
  {
   "cell_type": "code",
   "execution_count": 11,
   "metadata": {},
   "outputs": [],
   "source": [
    "temp=data_concat[:1024+32]"
   ]
  },
  {
   "cell_type": "code",
   "execution_count": 12,
   "metadata": {},
   "outputs": [],
   "source": [
    "hash_temp=hash_code(temp)"
   ]
  },
  {
   "cell_type": "code",
   "execution_count": 13,
   "metadata": {},
   "outputs": [
    {
     "output_type": "execute_result",
     "data": {
      "text/plain": [
       "b')\\x9c\\xec\\x80K(e+}\\xf6\\xbca\\xf5\\x89\\x89\\xbe\\xbbN\\x02\\xf2\\xb4\\x96\\x836[i\\x00\\x08Z\\xad\\xfaf'"
      ]
     },
     "metadata": {},
     "execution_count": 13
    }
   ],
   "source": [
    "hash_temp"
   ]
  },
  {
   "cell_type": "code",
   "execution_count": 46,
   "metadata": {},
   "outputs": [],
   "source": [
    "import os \n",
    "temp=os.urandom(60)"
   ]
  },
  {
   "cell_type": "code",
   "execution_count": 49,
   "metadata": {},
   "outputs": [
    {
     "output_type": "stream",
     "name": "stdout",
     "text": [
      "b'\\x18$\\xbbU\\xed\\xf0\\x92\\xce\\x00G\\x98\\xca6\\xb3\\xb7\\xde\\x04\\xac\\xb4\\xb4\\xfc\\x08}85\\r\\x94\\x94#\\x16j\\xd1'\n"
     ]
    }
   ],
   "source": [
    "print(hash_code(temp,SHA256.new()))"
   ]
  },
  {
   "cell_type": "code",
   "execution_count": 50,
   "metadata": {},
   "outputs": [
    {
     "output_type": "stream",
     "name": "stdout",
     "text": [
      "b'\\x18$\\xbbU\\xed\\xf0\\x92\\xce\\x00G\\x98\\xca6\\xb3\\xb7\\xde\\x04\\xac\\xb4\\xb4\\xfc\\x08}85\\r\\x94\\x94#\\x16j\\xd1'\n"
     ]
    }
   ],
   "source": [
    "print(hash_code(temp[:30]+temp[30:],SHA256.new()))"
   ]
  },
  {
   "cell_type": "code",
   "execution_count": 35,
   "metadata": {},
   "outputs": [],
   "source": [
    "t1=temp[:30]\n",
    "t2=temp[30:]"
   ]
  },
  {
   "cell_type": "code",
   "execution_count": 20,
   "metadata": {},
   "outputs": [
    {
     "output_type": "stream",
     "name": "stdout",
     "text": [
      "60\n"
     ]
    }
   ],
   "source": [
    "print(len(t1)+len(t2))"
   ]
  },
  {
   "cell_type": "code",
   "execution_count": 21,
   "metadata": {},
   "outputs": [
    {
     "output_type": "stream",
     "name": "stdout",
     "text": [
      "60\n"
     ]
    }
   ],
   "source": [
    "print(len(temp))"
   ]
  },
  {
   "cell_type": "code",
   "execution_count": 22,
   "metadata": {},
   "outputs": [
    {
     "output_type": "execute_result",
     "data": {
      "text/plain": [
       "b'\\xc7L\\x1b\\xc8\\xf5)\\xd7\\xecBOR\\xf6\\xea\\xd2\\xd2\\xc2\\x855\\x0b\\xfd\\xe1\\x89\\xd8\\xa7u\\x9c\\xf1\\xb9\\x02\\x11\\xea.'"
      ]
     },
     "metadata": {},
     "execution_count": 22
    }
   ],
   "source": [
    "hash_code(temp)"
   ]
  },
  {
   "cell_type": "code",
   "execution_count": 23,
   "metadata": {},
   "outputs": [
    {
     "output_type": "execute_result",
     "data": {
      "text/plain": [
       "b'\\xa5\\x01N\\xbfM\\x83\\x89\\xe1 \\x02h\\x8eO\\xb8n\\x1fS]\\x7f\\x8d\\xbf\\xf1\\xd4\\x14\\xee1x\\xe0k\\xc9\\xfeA'"
      ]
     },
     "metadata": {},
     "execution_count": 23
    }
   ],
   "source": [
    "hash_code(t1+t2)"
   ]
  },
  {
   "cell_type": "code",
   "execution_count": 24,
   "metadata": {},
   "outputs": [
    {
     "output_type": "execute_result",
     "data": {
      "text/plain": [
       "b'|\\xdf\\n\\x90\\x1d\\xdd>\\xebN\\xc34\\xfcg/\\xd3\\xe3\\r\"\\x9c;\\x80I\\xa4i\\xe6\\xaa\\xad2\\x91\\xdc90\\xeadF\\xae\\xa1\\xd8\\xc1\\xe9\\xea\\xe7\\xce\\xaa\\x9f\\x02M\\xc3\\xfeC\\xbd\\xa6Y\\xc8*\\xf6\\x00\\xfdcx'"
      ]
     },
     "metadata": {},
     "execution_count": 24
    }
   ],
   "source": [
    "t1+t2"
   ]
  },
  {
   "cell_type": "code",
   "execution_count": 25,
   "metadata": {},
   "outputs": [
    {
     "output_type": "execute_result",
     "data": {
      "text/plain": [
       "b'|\\xdf\\n\\x90\\x1d\\xdd>\\xebN\\xc34\\xfcg/\\xd3\\xe3\\r\"\\x9c;\\x80I\\xa4i\\xe6\\xaa\\xad2\\x91\\xdc90\\xeadF\\xae\\xa1\\xd8\\xc1\\xe9\\xea\\xe7\\xce\\xaa\\x9f\\x02M\\xc3\\xfeC\\xbd\\xa6Y\\xc8*\\xf6\\x00\\xfdcx'"
      ]
     },
     "metadata": {},
     "execution_count": 25
    }
   ],
   "source": [
    "temp"
   ]
  },
  {
   "cell_type": "code",
   "execution_count": 26,
   "metadata": {},
   "outputs": [],
   "source": [
    "tt=t1+t2"
   ]
  },
  {
   "cell_type": "code",
   "execution_count": 27,
   "metadata": {},
   "outputs": [
    {
     "output_type": "execute_result",
     "data": {
      "text/plain": [
       "b'\\x0eVT|\\x0eF\\xbfPw\\x97\\xd6K\\xc9\\xef\\x03Bl\\x9bv8\\xacg\\x06\\\\d\\xd9yi\\x0c\\x0f\\xdbo'"
      ]
     },
     "metadata": {},
     "execution_count": 27
    }
   ],
   "source": [
    "hash_code(tt)"
   ]
  },
  {
   "cell_type": "code",
   "execution_count": 28,
   "metadata": {},
   "outputs": [
    {
     "output_type": "execute_result",
     "data": {
      "text/plain": [
       "b'|\\xdf\\n\\x90\\x1d\\xdd>\\xebN\\xc34\\xfcg/\\xd3\\xe3\\r\"\\x9c;\\x80I\\xa4i\\xe6\\xaa\\xad2\\x91\\xdc90\\xeadF\\xae\\xa1\\xd8\\xc1\\xe9\\xea\\xe7\\xce\\xaa\\x9f\\x02M\\xc3\\xfeC\\xbd\\xa6Y\\xc8*\\xf6\\x00\\xfdcx'"
      ]
     },
     "metadata": {},
     "execution_count": 28
    }
   ],
   "source": [
    "temp"
   ]
  },
  {
   "cell_type": "code",
   "execution_count": 53,
   "metadata": {},
   "outputs": [],
   "source": [
    "temp=os.urandom(100)\n",
    "data_concat=data_concat+temp[:2]"
   ]
  },
  {
   "cell_type": "code",
   "execution_count": 54,
   "metadata": {},
   "outputs": [],
   "source": [
    "with open('/home/daominhkhanh/Documents/ATTT/Authentication/VideoConcat/kk.mp4','wb') as file:\n",
    "    file.write(data_concat)"
   ]
  },
  {
   "cell_type": "code",
   "execution_count": null,
   "metadata": {},
   "outputs": [],
   "source": []
  }
 ]
}